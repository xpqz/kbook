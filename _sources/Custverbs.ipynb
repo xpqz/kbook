{
 "cells": [
  {
   "cell_type": "markdown",
   "id": "1fa8fa1c",
   "metadata": {},
   "source": [
    "# Custom verbs\n",
    "\n",
    "We can, of course, create our own custom verbs, too. There is barely any syntax to learn: slap curly braces around your code, and you're done. Well, almost. If you squint a bit, you define verbs in a similar fashion to how you define functions in lisp. Here's an example of an anonymous function in Clojure:\n",
    "\n",
    "```clojure\n",
    ";;    name     params         body\n",
    ";;   -----     ------  -------------------\n",
    "(def greet (fn [name] (str \"Hello, \" name)))\n",
    "```"
   ]
  },
  {
   "cell_type": "markdown",
   "id": "0f9ca620",
   "metadata": {},
   "source": [
    "If we look at something equivalent in k, we can see the kinship"
   ]
  },
  {
   "cell_type": "code",
   "execution_count": 5,
   "id": "1ab43834",
   "metadata": {},
   "outputs": [
    {
     "name": "stdout",
     "output_type": "stream",
     "text": [
      "\"Hello, Sam\"\n"
     ]
    }
   ],
   "source": [
    "/name  params      body\n",
    "/----  ------ ---------------\n",
    "greet:{[name] \"Hello, \", name}\n",
    "\n",
    "greet \"Sam\""
   ]
  },
  {
   "cell_type": "markdown",
   "id": "11f1594e",
   "metadata": {},
   "source": [
    "So we made a custom verb called `greet` with a single named parameter called `name`. Note that there is no specific `return` statement, like you find in most other programming languages. Like in APL, a verb will return the first value it comes across that isn't assigned to something else."
   ]
  },
  {
   "cell_type": "markdown",
   "id": "99d0ee09",
   "metadata": {},
   "source": [
    "We can name more parameters, of course. Note that the list of argument names is _not_ a k-vector:"
   ]
  },
  {
   "cell_type": "code",
   "execution_count": 14,
   "id": "dbf9ac86",
   "metadata": {},
   "outputs": [
    {
     "name": "stdout",
     "output_type": "stream",
     "text": [
      "134\n"
     ]
    }
   ],
   "source": [
    "mysum:{[a;b;c;d] a+b+c+d}\n",
    "mysum[19;54;34;27]"
   ]
  },
  {
   "cell_type": "markdown",
   "id": "cc3f56be",
   "metadata": {},
   "source": [
    "K has a convention that if, in a function body, you make references to argument names `x`, `y`, `z`, you need not declare them first:"
   ]
  },
  {
   "cell_type": "code",
   "execution_count": 15,
   "id": "f94fa031",
   "metadata": {},
   "outputs": [
    {
     "name": "stdout",
     "output_type": "stream",
     "text": [
      "100\n"
     ]
    }
   ],
   "source": [
    "sum3:{x+y+z}\n",
    "sum3[12;34;54]"
   ]
  },
  {
   "cell_type": "markdown",
   "id": "665c4af6",
   "metadata": {},
   "source": [
    "In other words, `x` is always the first argument, `y` is the second, and `z` is the third. You can have `x` on its own, but if you have a `y` you must also have an `x`, and if you have a `z` you must also have both `x` and `y`.\n",
    "\n",
    "If you need more than three arguments, you either need to name them, as we did above, or you can pass a single argument vector. A contrived example:"
   ]
  },
  {
   "cell_type": "code",
   "execution_count": 20,
   "id": "ae450710",
   "metadata": {},
   "outputs": [
    {
     "name": "stdout",
     "output_type": "stream",
     "text": [
      "606\n",
      "606\n",
      "606\n"
     ]
    }
   ],
   "source": [
    "sumall:{+/x}              / verb takes ONE argument; albeit a vector\n",
    "sumall 12 34 456 8 67 29  / recall the equivalent calling conventions\n",
    "sumall@12 34 456 8 67 29\n",
    "sumall[12 34 456 8 67 29]"
   ]
  },
  {
   "cell_type": "markdown",
   "id": "cd171f35",
   "metadata": {},
   "source": [
    "## Statement separation"
   ]
  },
  {
   "cell_type": "markdown",
   "id": "b61afbba",
   "metadata": {},
   "source": [
    "K-code tends to be built up using short verb definitions. You will have noticed by now that you build up functionality from the right by applying verbs and adverbs, and most of the time there is no need for statement separation. However, if you do need multiple statements, you simply separate them with semicolon. Some ks (not all) also allow statements to be laid out over multiple lines. ngn/k is amongst those that do allow for this, but only if you are executing a _file_ of code, and under the small proviso that the final closing `}` must not sit on its own line. In other words, you can't use multi-line verbs in the repl, and as the jupyter-kernel behind this book uses the repl, we can't show this feature in action."
   ]
  },
  {
   "cell_type": "code",
   "execution_count": 7,
   "id": "2a3cbab4",
   "metadata": {},
   "outputs": [
    {
     "name": "stdout",
     "output_type": "stream",
     "text": [
      "400\n"
     ]
    }
   ],
   "source": [
    "f:{m:x+y;n:x-y;n*m}   / three statements separated by ;\n",
    "f[25;15]"
   ]
  },
  {
   "cell_type": "code",
   "execution_count": null,
   "id": "a6727d44",
   "metadata": {},
   "outputs": [],
   "source": [
    "Alteration with $[], recursion with o, separation with ;"
   ]
  },
  {
   "cell_type": "markdown",
   "id": "2f700a72",
   "metadata": {},
   "source": [
    "## Alternation"
   ]
  },
  {
   "cell_type": "markdown",
   "id": "d27fc532",
   "metadata": {},
   "source": [
    "K has an \"if statement\" borrowed from Lisp:\n",
    "\n",
    "    $[condition; true-branch; false-branch]"
   ]
  },
  {
   "cell_type": "code",
   "execution_count": 1,
   "id": "83520438",
   "metadata": {},
   "outputs": [
    {
     "name": "stdout",
     "output_type": "stream",
     "text": [
      "`true\n"
     ]
    }
   ],
   "source": [
    "$[5=5;`true;`false]"
   ]
  },
  {
   "cell_type": "code",
   "execution_count": null,
   "id": "206664c1",
   "metadata": {},
   "outputs": [],
   "source": []
  }
 ],
 "metadata": {
  "kernelspec": {
   "display_name": "ngn/k",
   "language": "ngnk",
   "name": "ngnk"
  },
  "language_info": {
   "file_extension": ".k",
   "mimetype": "text/ngnk",
   "name": "ngnk"
  }
 },
 "nbformat": 4,
 "nbformat_minor": 5
}
