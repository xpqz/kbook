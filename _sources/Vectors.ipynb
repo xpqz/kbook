{
 "cells": [
  {
   "cell_type": "markdown",
   "metadata": {},
   "source": [
    "# Vectors everywhere\n",
    "\n",
    "k is a vector language. In practice, what this means is that the vector is the only data structure available out of the gates. Well, it does have dicts, too, but they're really just a pair of vectors under the hood (we'll get to those in a bit).\n",
    "\n",
    "We can make a vector by simply listing a bunch of elements, separated by space:"
   ]
  },
  {
   "cell_type": "code",
   "execution_count": 1,
   "metadata": {},
   "outputs": [
    {
     "name": "stdout",
     "output_type": "stream",
     "text": [
      "1 4 7 2 3 9 0\n"
     ]
    }
   ],
   "source": [
    "1 4 7 2 3 9 0         / a simple numeric vector"
   ]
  },
  {
   "cell_type": "markdown",
   "metadata": {},
   "source": [
    "The elements of a vector can be anything, including other vectors (at any level of nesting):"
   ]
  },
  {
   "cell_type": "code",
   "execution_count": 53,
   "metadata": {},
   "outputs": [
    {
     "name": "stdout",
     "output_type": "stream",
     "text": [
      "(1 2 3\n",
      " 4 5 6\n",
      " 7 8 9)\n"
     ]
    }
   ],
   "source": [
    "(1 2 3;4 5 6;7 8 9)   / a nested vector - nested elements separated by semi-colon"
   ]
  },
  {
   "cell_type": "markdown",
   "metadata": {},
   "source": [
    "We can also place characters and symbols in vectors,"
   ]
  },
  {
   "cell_type": "code",
   "execution_count": 29,
   "metadata": {},
   "outputs": [
    {
     "name": "stdout",
     "output_type": "stream",
     "text": [
      "(\"Hello world\"\n",
      " `h`e`l`l`o)\n"
     ]
    }
   ],
   "source": [
    "(\"Hello world\"; `h`e`l`l`o)"
   ]
  },
  {
   "cell_type": "markdown",
   "metadata": {},
   "source": [
    "Indeed, k, like APL, does not have a separate data representation for strings -- they're just vectors of characters. And, yes, we sneakily introduced another fundamental k-type there, the _symbol_. A symbol in k is denoted by a leading back-tick, like so:"
   ]
  },
  {
   "cell_type": "code",
   "execution_count": 55,
   "metadata": {},
   "outputs": [
    {
     "name": "stdout",
     "output_type": "stream",
     "text": [
      "`sym\n"
     ]
    }
   ],
   "source": [
    "`sym"
   ]
  },
  {
   "cell_type": "markdown",
   "metadata": {},
   "source": [
    "and, as we saw already, a vector of symbols requires no spaces:"
   ]
  },
  {
   "cell_type": "code",
   "execution_count": 57,
   "metadata": {},
   "outputs": [
    {
     "name": "stdout",
     "output_type": "stream",
     "text": [
      "`a`b`c`d\n"
     ]
    }
   ],
   "source": [
    "`a`b`c`d"
   ]
  },
  {
   "cell_type": "markdown",
   "metadata": {},
   "source": [
    "We can assign a vector to a variable. K uses the colon `:` to denote assignment:"
   ]
  },
  {
   "cell_type": "code",
   "execution_count": 30,
   "metadata": {},
   "outputs": [],
   "source": [
    "a:1 4 7 2 3 9 0\n",
    "b:\"some text here\""
   ]
  },
  {
   "cell_type": "markdown",
   "metadata": {},
   "source": [
    "Note that this time we got nothing back. This is because k's assignment does not return a value. To see the value of a variable, we simply refer to it by name:"
   ]
  },
  {
   "cell_type": "code",
   "execution_count": 3,
   "metadata": {},
   "outputs": [
    {
     "name": "stdout",
     "output_type": "stream",
     "text": [
      "23 45 56\n"
     ]
    }
   ],
   "source": [
    "var:23 45 56\n",
    "var"
   ]
  },
  {
   "cell_type": "markdown",
   "metadata": {},
   "source": [
    "or we can use monadic `:`, _dex_, which is a verb that returns its right argument, like APL's _right tack_, `⊢`. \"Dexter\" means \"right\" in Latin. We'll use that to make variable assignments visible in output occaionally:"
   ]
  },
  {
   "cell_type": "code",
   "execution_count": 42,
   "metadata": {},
   "outputs": [
    {
     "name": "stdout",
     "output_type": "stream",
     "text": [
      "23 45 56\n"
     ]
    }
   ],
   "source": [
    ":var:23 45 56    / dex the assignment for output"
   ]
  },
  {
   "cell_type": "markdown",
   "metadata": {},
   "source": [
    "K supports scalars, too, unsurprisingly:"
   ]
  },
  {
   "cell_type": "code",
   "execution_count": 4,
   "metadata": {},
   "outputs": [
    {
     "name": "stdout",
     "output_type": "stream",
     "text": [
      "5\n"
     ]
    }
   ],
   "source": [
    "5"
   ]
  },
  {
   "cell_type": "markdown",
   "metadata": {},
   "source": [
    "A scalar isn't in fact a 1D vector with a single element, which presents us with a bit of a conundrum: if I _do_ want a vector with a single element, how do I create that? For this we use a _monadic_ comma, `,`, called _enlist_:"
   ]
  },
  {
   "cell_type": "code",
   "execution_count": 26,
   "metadata": {},
   "outputs": [
    {
     "name": "stdout",
     "output_type": "stream",
     "text": [
      ",5\n"
     ]
    }
   ],
   "source": [
    ",5                   / a vector containing the element 5"
   ]
  },
  {
   "cell_type": "markdown",
   "metadata": {},
   "source": [
    "## Count\n",
    "\n",
    "_Count_, monadic `#`, gives the cardinality of its argument:"
   ]
  },
  {
   "cell_type": "code",
   "execution_count": 54,
   "metadata": {},
   "outputs": [
    {
     "name": "stdout",
     "output_type": "stream",
     "text": [
      "6\n",
      "2\n",
      "1\n",
      "1\n"
     ]
    }
   ],
   "source": [
    "#3 4 5 1 23 5        / a vector containing 6 elements\n",
    "#(1 2 3;3 2 1)       / a nested vector containing 2 elements\n",
    "#,5                  / a vector containing 1 element                 \n",
    "#5                   / a single scalar"
   ]
  },
  {
   "cell_type": "markdown",
   "metadata": {},
   "source": [
    "Hold on! Didn't you just say that a scalar _isn't_ a single-element vector? If so, why is `1 = #5`? The `#` is _cardinality_, not shape. But it's a fair question, one which has either a dirt simple, or a deep, complex answer. \n",
    "\n",
    "Python, for example, has a different opinion than k. Well, it would, wouldn't it?\n",
    "\n",
    "```python\n",
    ">>> len([3, 4, 5, 1, 23, 5])    # length of a vector\n",
    "6\n",
    ">>> len(5)                      # length of a scalar is an error\n",
    "Traceback (most recent call last):\n",
    "  File \"<stdin>\", line 1, in <module>\n",
    "TypeError: object of type 'int' has no len()\n",
    "```\n",
    "APL has a _tally_ primitive, too, `≢`. APL thinks like k in this regard:\n",
    "\n",
    "```apl\n",
    " ≢,5     ⍝ tally a vector with one element\n",
    " \n",
    "1\n",
    " \n",
    " ≢5      ⍝ tally a scalar\n",
    " \n",
    "1\n",
    "```\n",
    "\n",
    "The dirt simple explanation is that, in k, monadic `#` simply returns the \"number of things to the right\", which for a scalar is 1. This should be a sufficient explanation for practical programming purposes. The book [Q for Mortals](https://code.kx.com/q4m3/3_Lists/#312-count), for example, leaves it at that:\n",
    "\n",
    "> Observe that the count of an atom is 1 even though an atom is not a list.\n",
    "\n",
    "If you're OK with that for now, feel free to skip the next bit, with sanity intact.\n",
    "\n",
    "For the more complex explanation, we need to consider the fundamental nature of vectors and scalars in k. Adám Brudzewsky [explained it in APL-terms](https://chat.stackexchange.com/transcript/message/46209916#46209916) in the chat room [APL Orchard](https://apl.chat):\n",
    "\n",
    "> A set of coordinates is simply a list of positions along each of the axes of the array, in the canonical order of axes.\n",
    "> * In a 3D array, we need exactly 3 coordinates, e.g. (3,1,4) to address an element.\n",
    "> * In 2D array (a matrix/table), we need exactly 2 coordinates.\n",
    "> * In a 1D array (a vector/list), we need exactly 1 coordinate.\n",
    "> * In a 0D array (a scalar), we need exactly 0 coordinates.\n",
    ">\n",
    "> So the number 5 is just a 0-dimensional array where the sole element has the coordinates [] (in JSON). \n",
    "\n",
    "That explanation holds true for k, too: a scalar can be viewed as a 0D vector of one element which is accessed with an empty coordinate vector. \n",
    "\n",
    "@ngn [opined](https://chat.stackexchange.com/transcript/message/59703183#59703183):\n",
    "\n",
    "> @xpqz the fact that a scalar has empty shape and exactly 1 item is not controversial. it's just that `1=≢scalar` doesn't sound as convincing to some people.\n",
    "\n",
    "Don't worry too much if that _does_ feel controversial.\n",
    "\n",
    "But the question remains - how _do_ you distinguish between a scalar and a 1D vector with 1 element? They _are_ different. There are a couple of ways in k to check if something is a scalar, for example by matching with the first element. We can find the first element of something with monadic `*`, which you by now should expect works for both scalars and vectors:"
   ]
  },
  {
   "cell_type": "code",
   "execution_count": 51,
   "metadata": {},
   "outputs": [
    {
     "name": "stdout",
     "output_type": "stream",
     "text": [
      "5\n",
      "1\n"
     ]
    }
   ],
   "source": [
    "*5             / first element of scalar 5\n",
    "*1 2 3 4 5     / first element of vector 1 2 3 4 5"
   ]
  },
  {
   "cell_type": "markdown",
   "metadata": {},
   "source": [
    "_Match_, dyadic `~`, is basically \"deep equals\" -- true if both the structure and contents of the two things being compared are the same."
   ]
  },
  {
   "cell_type": "code",
   "execution_count": 25,
   "metadata": {},
   "outputs": [
    {
     "name": "stdout",
     "output_type": "stream",
     "text": [
      "1\n",
      "0\n"
     ]
    }
   ],
   "source": [
    "scalar:5\n",
    "vector:1 2 3 4 5\n",
    "scalar~*scalar\n",
    "vector~*vector"
   ]
  },
  {
   "cell_type": "markdown",
   "metadata": {},
   "source": [
    "## Reshape\n",
    "\n",
    "Dyadic `#` is _reshape_, cribbed wholesale from APL's dyadic `⍴`. It lets you create nested vectors of arbitrary depth:"
   ]
  },
  {
   "cell_type": "code",
   "execution_count": 2,
   "metadata": {},
   "outputs": [
    {
     "name": "stdout",
     "output_type": "stream",
     "text": [
      "(3 1 2 4 5\n",
      " 8 6 9 8 4\n",
      " 5 2 3 4 3)\n"
     ]
    }
   ],
   "source": [
    "3 5#3 1 2 4 5 8 6 9 8 4 5 2 3 4     / a 3x5 matrix"
   ]
  },
  {
   "cell_type": "markdown",
   "metadata": {},
   "source": [
    "The left argument lists the length of each axis; in our case, rows and columns. K constructs this structure for us, and uses the elements to the right, in order, to fill each row in turn. If we haven't given the perfect count of elements to match the axis specification, we'll either start from the beginning again, or finish early:"
   ]
  },
  {
   "cell_type": "code",
   "execution_count": 3,
   "metadata": {},
   "outputs": [
    {
     "name": "stdout",
     "output_type": "stream",
     "text": [
      "(1 2 3 1 2\n",
      " 3 1 2 3 1\n",
      " 2 3 1 2 3)\n"
     ]
    }
   ],
   "source": [
    "3 5#1 2 3           / too few elements; repeat"
   ]
  },
  {
   "cell_type": "code",
   "execution_count": 4,
   "metadata": {},
   "outputs": [
    {
     "name": "stdout",
     "output_type": "stream",
     "text": [
      "(1 2 3\n",
      " 4 5 6\n",
      " 7 8 9)\n"
     ]
    }
   ],
   "source": [
    "3 3#1 2 3 4 5 6 7 8 9 10 11 12 / too many, truncate"
   ]
  },
  {
   "cell_type": "markdown",
   "metadata": {},
   "source": [
    "Axes are numbered from the left. If we want a _cuboid_, that is something with a z-axis, depth becomes the first axis:"
   ]
  },
  {
   "cell_type": "code",
   "execution_count": 6,
   "metadata": {},
   "outputs": [
    {
     "name": "stdout",
     "output_type": "stream",
     "text": [
      "((0 1 2 3 4;5 6 7 8 9;10 11 12 13 14)\n",
      " (15 16 17 18 19;20 21 22 23 24;25 26 27 28 29))\n"
     ]
    }
   ],
   "source": [
    "2 3 5#!30"
   ]
  },
  {
   "cell_type": "markdown",
   "metadata": {},
   "source": [
    "So now we have two layers, each forming a 3x5 matrix. "
   ]
  },
  {
   "cell_type": "markdown",
   "metadata": {},
   "source": [
    "A supremely useful aspect of `#` is that you can set axes to \"null\" (`0N`) and it will be taken to mean \"to the max\". An example might help: let's say that you have a simple vector that you want to \"fold\" pairwise to form a 2-column table. One way you could do this is to divide its length by 2 to get the number of rows, and then reshape. It certainly works:"
   ]
  },
  {
   "cell_type": "code",
   "execution_count": 58,
   "metadata": {},
   "outputs": [
    {
     "name": "stdout",
     "output_type": "stream",
     "text": [
      "(2 5\n",
      " 4 2\n",
      " 6 5\n",
      " 3 7\n",
      " 5 3\n",
      " 7 5)\n"
     ]
    }
   ],
   "source": [
    "v:2 5 4 2 6 5 3 7 5 3 7 5\n",
    "rows:-2!#v                   / -i! is div: integer division\n",
    "(rows;2)#v"
   ]
  },
  {
   "cell_type": "markdown",
   "metadata": {},
   "source": [
    "...but really--that's beyond fugly. This is quite a common thing to do, so we can instead just state that we want the first axis to contain as many items as the data allow, whilst keeping the length of each row to 2:"
   ]
  },
  {
   "cell_type": "code",
   "execution_count": 59,
   "metadata": {},
   "outputs": [
    {
     "name": "stdout",
     "output_type": "stream",
     "text": [
      "(2 5\n",
      " 4 2\n",
      " 6 5\n",
      " 3 7\n",
      " 5 3\n",
      " 7 5)\n"
     ]
    }
   ],
   "source": [
    "v:2 5 4 2 6 5 3 7 5 3 7 5\n",
    "0N 2#v"
   ]
  },
  {
   "cell_type": "markdown",
   "metadata": {},
   "source": [
    "This is a feature I wish APL would steal."
   ]
  },
  {
   "cell_type": "markdown",
   "metadata": {},
   "source": [
    "## Indexing\n",
    "\n",
    "K has several ways in which to index into things (although not as many as APL, thankfully), but the key idea is that indexing and functional application are syntactically identical. Or you can flip it to say that k has several ways of calling a function, and indexing is functional in k. We've already seen how we can call functions -- we simply list the arguments as a vector. In terms of indexing, the following expressions do the same thing: select row 0, row 1, row 0, row 1 from the matrix called `m`: [[try it](https://ngn.bitbucket.io/k#eJyzyrUyVjBVVjQ05eLKVTBQMARjNKCvkJmXklqRmZeuUJ5ZkqGQqFCWmlySX6RQnJoDZBQr5OcplGSkKuSkJqaAFCVWZBbrAEWKUlMVyhMri4FGO0CNBjKjocxYAKlKIUw=)]"
   ]
  },
  {
   "cell_type": "code",
   "execution_count": 47,
   "metadata": {
    "tags": [
     "no-link"
    ]
   },
   "outputs": [
    {
     "name": "stdout",
     "output_type": "stream",
     "text": [
      "(0 1 2 3 4\n",
      " 5 6 7 8 9\n",
      " 10 11 12 13 14)\n"
     ]
    }
   ],
   "source": [
    ":m:3 5#!15          / an example matrix"
   ]
  },
  {
   "cell_type": "code",
   "execution_count": 48,
   "metadata": {
    "tags": [
     "no-link"
    ]
   },
   "outputs": [
    {
     "name": "stdout",
     "output_type": "stream",
     "text": [
      "(0 1 2 3 4\n",
      " 5 6 7 8 9\n",
      " 0 1 2 3 4\n",
      " 5 6 7 8 9)\n"
     ]
    }
   ],
   "source": [
    "m 0 1 0 1           / index by 'raw' vector"
   ]
  },
  {
   "cell_type": "code",
   "execution_count": 51,
   "metadata": {
    "tags": [
     "no-link"
    ]
   },
   "outputs": [
    {
     "name": "stdout",
     "output_type": "stream",
     "text": [
      "(0 1 2 3 4\n",
      " 5 6 7 8 9\n",
      " 0 1 2 3 4\n",
      " 5 6 7 8 9)\n"
     ]
    }
   ],
   "source": [
    "m@0 1 0 1           / index @ single argument vector"
   ]
  },
  {
   "cell_type": "code",
   "execution_count": 52,
   "metadata": {
    "tags": [
     "no-link"
    ]
   },
   "outputs": [
    {
     "name": "stdout",
     "output_type": "stream",
     "text": [
      "(0 1 2 3 4\n",
      " 5 6 7 8 9\n",
      " 0 1 2 3 4\n",
      " 5 6 7 8 9)\n"
     ]
    }
   ],
   "source": [
    "m[0 1 0 1]          / bracket index"
   ]
  },
  {
   "cell_type": "markdown",
   "metadata": {},
   "source": [
    "If `m` had been a verb instead of a vector, the effect would have been to call the verb `m` with the argument vector `0 1 0 1`.\n",
    "\n",
    "But what if we want to index 'at depth' in our vector, say picking out an individual element? Well, we have a few options. As indexing can be seen as functional application, we could select the `11` at row 2, col 1 by "
   ]
  },
  {
   "cell_type": "code",
   "execution_count": 31,
   "metadata": {},
   "outputs": [
    {
     "name": "stdout",
     "output_type": "stream",
     "text": [
      "11\n"
     ]
    }
   ],
   "source": [
    "m:3 5#!15\n",
    "m[2][1]         / first select row 2, then select element 1 from that"
   ]
  },
  {
   "cell_type": "markdown",
   "metadata": {},
   "source": [
    "However, indexing at depth is a pretty common thing to want to do, so there is a convenient short-hand for this, also borrowed from function application:"
   ]
  },
  {
   "cell_type": "code",
   "execution_count": 32,
   "metadata": {},
   "outputs": [
    {
     "name": "stdout",
     "output_type": "stream",
     "text": [
      "11\n"
     ]
    }
   ],
   "source": [
    "m:3 5#!15\n",
    "m[2;1]          / index at depth"
   ]
  },
  {
   "cell_type": "markdown",
   "metadata": {},
   "source": [
    "Note that the semi-colon-separated expression inside the square brackets is _not_ a vector, it's a function application with _two_ arguments. It's worth taking a minute to internalise this difference:"
   ]
  },
  {
   "cell_type": "code",
   "execution_count": 38,
   "metadata": {},
   "outputs": [
    {
     "name": "stdout",
     "output_type": "stream",
     "text": [
      "(10 11 12 13 14\n",
      " 5 6 7 8 9)\n",
      "11\n"
     ]
    }
   ],
   "source": [
    "m:3 5#!15\n",
    "m[2 1]          / function call with the single argument vector 2 1: select row 2 and row 1\n",
    "m[2;1]          / function call with two arguments, 2 and 1: select element at row 2, col 1"
   ]
  },
  {
   "cell_type": "markdown",
   "metadata": {},
   "source": [
    "It might help comparing with Python:\n",
    "\n",
    "```python\n",
    "m([2, 1])  # call function m with a single argument, the list [2, 1]\n",
    "m(2, 1)    # call function m with two arguments, 2 and 1\n",
    "```\n",
    "\n",
    "Indexing at depth is also a convenient way to _slice_ arrays. For example, we can pick a particular layer from a multi-dimensional vector:"
   ]
  },
  {
   "cell_type": "code",
   "execution_count": 39,
   "metadata": {},
   "outputs": [
    {
     "name": "stdout",
     "output_type": "stream",
     "text": [
      "(15 16 17 18 19\n",
      " 20 21 22 23 24\n",
      " 25 26 27 28 29)\n"
     ]
    }
   ],
   "source": [
    "c:2 3 5#!30\n",
    "c[1;;]                / layer 1, all rows, all columns"
   ]
  },
  {
   "cell_type": "markdown",
   "metadata": {},
   "source": [
    "The bracket indexing expression lists the axes in order, separated by semi-colon. Omitting an axis means \"all\". It follows that we can drill down to any depth. If we want a single element we need to give a full specification:"
   ]
  },
  {
   "cell_type": "code",
   "execution_count": 8,
   "metadata": {},
   "outputs": [
    {
     "name": "stdout",
     "output_type": "stream",
     "text": [
      "21\n"
     ]
    }
   ],
   "source": [
    "c:2 3 5#!30\n",
    "c[1;1;1]                  / 21"
   ]
  },
  {
   "cell_type": "markdown",
   "metadata": {},
   "source": [
    "If we wanted to pick column 3 from both layers we'd say"
   ]
  },
  {
   "cell_type": "code",
   "execution_count": 42,
   "metadata": {},
   "outputs": [
    {
     "name": "stdout",
     "output_type": "stream",
     "text": [
      "(3 8 13\n",
      " 18 23 28)\n"
     ]
    }
   ],
   "source": [
    "c:2 3 5#!30\n",
    "c[;;3]"
   ]
  },
  {
   "cell_type": "markdown",
   "metadata": {},
   "source": [
    "An additional quirk that might not be obvious: if we're indexing with a vector, it can be of an arbitrary shape. The shape of the argument vector dictates the shape of the result:"
   ]
  },
  {
   "cell_type": "code",
   "execution_count": 46,
   "metadata": {},
   "outputs": [
    {
     "name": "stdout",
     "output_type": "stream",
     "text": [
      "((6 7 8;6 7 8)\n",
      " (3 4 5;3 4 5))\n"
     ]
    }
   ],
   "source": [
    "m:3 3#!9\n",
    "m[(2 2;1 1)]              / note: this is NOT indexing at depth!"
   ]
  },
  {
   "cell_type": "markdown",
   "metadata": {},
   "source": [
    "## Mutation\n",
    "\n",
    "We can modify values in existing vectors in a couple of ways in k. We'll get to the funkier ones (amend and dmend) later on, but assignment via bracket indexing should feel familiar:"
   ]
  },
  {
   "cell_type": "code",
   "execution_count": 19,
   "metadata": {},
   "outputs": [
    {
     "name": "stdout",
     "output_type": "stream",
     "text": [
      "1 5 3 2 -2 7 0\n"
     ]
    }
   ],
   "source": [
    "v:1 5 3 2 8 7 0\n",
    "v[4]: -2                  / change element as pos 4 to -2\n",
    "v"
   ]
  },
  {
   "cell_type": "markdown",
   "metadata": {},
   "source": [
    "As we saw earlier, we can bracket index with vectors, and this idea extends to assignment, too:"
   ]
  },
  {
   "cell_type": "code",
   "execution_count": 18,
   "metadata": {},
   "outputs": [
    {
     "name": "stdout",
     "output_type": "stream",
     "text": [
      "-2 5 3 2 -2 7 -2\n"
     ]
    }
   ],
   "source": [
    "v:1 5 3 2 8 7 0\n",
    "v[0 6 4]: -2              / change elements as pos 0 6 and 4 to -2\n",
    "v"
   ]
  },
  {
   "cell_type": "markdown",
   "metadata": {},
   "source": [
    "For nested vectors, we need to use indexing at depth:"
   ]
  },
  {
   "cell_type": "code",
   "execution_count": 23,
   "metadata": {},
   "outputs": [
    {
     "name": "stdout",
     "output_type": "stream",
     "text": [
      "((0 1 2 3 4;5 6 7 8 9;10 11 12 13 14)\n",
      " (15 16 17 18 19;20 -2 22 23 24;25 26 27 28 29))\n"
     ]
    }
   ],
   "source": [
    "m:2 3 5#!30\n",
    "m[1;1;1]: -2              / change element at layer 1, row 1, col 1 to -2\n",
    "m"
   ]
  },
  {
   "cell_type": "markdown",
   "metadata": {},
   "source": [
    "You cannot, however, use multiple bracket pairs to set values at depth:"
   ]
  },
  {
   "cell_type": "code",
   "execution_count": 25,
   "metadata": {},
   "outputs": [
    {
     "name": "stdout",
     "output_type": "stream",
     "text": [
      "'compile\n",
      "m[1][1][1]: -2            / NB: error!\n",
      "          ^\n"
     ]
    }
   ],
   "source": [
    "m:2 3 5#!30\n",
    "m[1][1][1]: -2            / NB: error!"
   ]
  },
  {
   "cell_type": "markdown",
   "metadata": {},
   "source": [
    "This is because the intermediate vectors that each bracket pair returns are ephemeral copies, rather than references. It would have worked in Python."
   ]
  },
  {
   "cell_type": "markdown",
   "metadata": {},
   "source": [
    "## Atomics\n",
    "\n",
    "A fundamental aspect of k is that many of its verbs are _atomic_, or _pervasive_. In simplified terms, this means that a verb that takes scalar arguments will drill through into vectors of any shape and apply at the relevant level. For example, we can add a scalar to a vector:"
   ]
  },
  {
   "cell_type": "code",
   "execution_count": 60,
   "metadata": {},
   "outputs": [
    {
     "name": "stdout",
     "output_type": "stream",
     "text": [
      "99 66 52 110 88 35\n"
     ]
    }
   ],
   "source": [
    "23+76 43 29 87 65 12"
   ]
  },
  {
   "cell_type": "markdown",
   "metadata": {},
   "source": [
    "Indeed, we can add a scalar to _any_ shape vector, even ragged ones: [[try it](https://ngn.bitbucket.io/k#eJzLtdIwVjBUMLI2VTBRMLbWsABzjBSMFUw0NRUU9BWKEtPTU1MUEouKEiu5crVNTQEJTwul)]"
   ]
  },
  {
   "cell_type": "code",
   "execution_count": 64,
   "metadata": {
    "tags": [
     "no-link"
    ]
   },
   "outputs": [
    {
     "name": "stdout",
     "output_type": "stream",
     "text": [
      "(3 1 2\n",
      " 5 4 3\n",
      " (8 1 2;2 3 4))\n"
     ]
    }
   ],
   "source": [
    ":m:(3 1 2;5 4 3;(8 1 2;2 3 4))  / ragged array"
   ]
  },
  {
   "cell_type": "code",
   "execution_count": 66,
   "metadata": {
    "tags": [
     "no-link"
    ]
   },
   "outputs": [
    {
     "name": "stdout",
     "output_type": "stream",
     "text": [
      "(58 56 57\n",
      " 60 59 58\n",
      " (63 56 57;57 58 59))\n"
     ]
    }
   ],
   "source": [
    "m+55                            / add 55 to each atom"
   ]
  },
  {
   "cell_type": "markdown",
   "metadata": {},
   "source": [
    "We can add two vectors:"
   ]
  },
  {
   "cell_type": "code",
   "execution_count": 67,
   "metadata": {},
   "outputs": [
    {
     "name": "stdout",
     "output_type": "stream",
     "text": [
      "102 87 105 108\n"
     ]
    }
   ],
   "source": [
    "26 34 57 98+76 53 48 10"
   ]
  },
  {
   "cell_type": "markdown",
   "metadata": {},
   "source": [
    "...provided they're of the same length:"
   ]
  },
  {
   "cell_type": "code",
   "execution_count": 68,
   "metadata": {},
   "outputs": [
    {
     "name": "stdout",
     "output_type": "stream",
     "text": [
      "'length\n",
      "26 34 57 98+76 53 48       / 'length error\n",
      "           ^\n"
     ]
    }
   ],
   "source": [
    "26 34 57 98+76 53 48       / 'length error"
   ]
  },
  {
   "cell_type": "code",
   "execution_count": null,
   "metadata": {},
   "outputs": [],
   "source": []
  }
 ],
 "metadata": {
  "kernelspec": {
   "display_name": "ngn/k",
   "language": "ngnk",
   "name": "ngnk"
  },
  "language_info": {
   "file_extension": ".k",
   "mimetype": "text/ngnk",
   "name": "ngnk"
  }
 },
 "nbformat": 4,
 "nbformat_minor": 4
}
